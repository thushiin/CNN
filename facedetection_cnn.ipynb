{
  "nbformat": 4,
  "nbformat_minor": 0,
  "metadata": {
    "colab": {
      "provenance": [],
      "gpuType": "T4"
    },
    "kernelspec": {
      "name": "python3",
      "display_name": "Python 3"
    },
    "language_info": {
      "name": "python"
    },
    "accelerator": "GPU"
  },
  "cells": [
    {
      "cell_type": "code",
      "execution_count": 20,
      "metadata": {
        "id": "Nn3q_CXDgn3L"
      },
      "outputs": [],
      "source": [
        "from glob import glob"
      ]
    },
    {
      "cell_type": "code",
      "source": [
        "path='/content/drive/MyDrive/images'\n",
        "image=glob(path+'/*')\n",
        "image"
      ],
      "metadata": {
        "colab": {
          "base_uri": "https://localhost:8080/"
        },
        "id": "F4rLhg3Fm_pS",
        "outputId": "d88e8f4c-4a33-41bf-bff1-498600d5fe08"
      },
      "execution_count": 21,
      "outputs": [
        {
          "output_type": "execute_result",
          "data": {
            "text/plain": [
              "['/content/drive/MyDrive/images/Rismi',\n",
              " '/content/drive/MyDrive/images/Thushin',\n",
              " '/content/drive/MyDrive/images/Sayuj',\n",
              " '/content/drive/MyDrive/images/Shamiya',\n",
              " '/content/drive/MyDrive/images/Sadeed']"
            ]
          },
          "metadata": {},
          "execution_count": 21
        }
      ]
    },
    {
      "cell_type": "code",
      "source": [
        "rismi=list(glob(path+'/Rismi/*'))\n",
        "thushin=list(glob(path+'/Thushin/*'))\n",
        "sayuj=list(glob(path+'/Sayuj/*'))\n",
        "shamiya=list(glob(path+'/Shamiya/*'))\n",
        "sadeed=list(glob(path+'/Sadeed/*'))"
      ],
      "metadata": {
        "id": "fhzeZvgkogbB"
      },
      "execution_count": 22,
      "outputs": []
    },
    {
      "cell_type": "code",
      "source": [
        "len(rismi)"
      ],
      "metadata": {
        "colab": {
          "base_uri": "https://localhost:8080/"
        },
        "id": "eniQY-WBpMbG",
        "outputId": "ec42af1b-8b56-456d-a199-a336e094ad00"
      },
      "execution_count": 4,
      "outputs": [
        {
          "output_type": "execute_result",
          "data": {
            "text/plain": [
              "300"
            ]
          },
          "metadata": {},
          "execution_count": 4
        }
      ]
    },
    {
      "cell_type": "code",
      "source": [
        "input={'Rismi':rismi, 'Thushin':thushin, 'Sayuj':sayuj, 'Shamiya':shamiya, 'Sadeed':sadeed}\n",
        "output={'Rismi':0, 'Thushin':1, 'Sayuj':2, 'Shamiya':3, 'Sadeed':4}"
      ],
      "metadata": {
        "id": "fqwBBt1ypXZ-"
      },
      "execution_count": 23,
      "outputs": []
    },
    {
      "cell_type": "code",
      "source": [
        "x=[]\n",
        "y=[]\n",
        "import cv2\n",
        "import numpy as np\n",
        "for img in input:\n",
        "  path_list=input[img]\n",
        "  for path in path_list:\n",
        "    img_array=cv2.imread(path)\n",
        "    img_resize=cv2.resize(img_array,(224,224))\n",
        "    img_resize=img_resize/255\n",
        "    img_resize=img_resize.reshape(224,224,3,1)\n",
        "    x.append(img_resize)\n",
        "    y.append(output[img])\n",
        "    x1=np.array(x)\n",
        "    y1=np.array(y)"
      ],
      "metadata": {
        "id": "xEXMGlixp-V0"
      },
      "execution_count": 24,
      "outputs": []
    },
    {
      "cell_type": "code",
      "source": [
        "from sklearn.model_selection import train_test_split\n",
        "xtrain,xtest,ytrain,ytest=train_test_split(x1,y1,test_size=0.2)"
      ],
      "metadata": {
        "id": "wqIh_oDqrsbo"
      },
      "execution_count": 25,
      "outputs": []
    },
    {
      "cell_type": "code",
      "source": [
        "from tensorflow.keras.layers import Flatten,Dense,Conv3D,MaxPool3D\n",
        "from tensorflow.keras.losses import SparseCategoricalCrossentropy\n",
        "from tensorflow.keras.optimizers import Adam\n",
        "from tensorflow.keras.models import Sequential\n",
        "mod=Sequential()"
      ],
      "metadata": {
        "id": "M_RU_XVryXF1"
      },
      "execution_count": 26,
      "outputs": []
    },
    {
      "cell_type": "code",
      "source": [
        "xtrain.shape\n",
        "xtest.shape"
      ],
      "metadata": {
        "colab": {
          "base_uri": "https://localhost:8080/"
        },
        "id": "dooaqVVX2MnQ",
        "outputId": "9639159e-1f50-42e9-d58a-7801d76773b8"
      },
      "execution_count": 27,
      "outputs": [
        {
          "output_type": "execute_result",
          "data": {
            "text/plain": [
              "(300, 224, 224, 3, 1)"
            ]
          },
          "metadata": {},
          "execution_count": 27
        }
      ]
    },
    {
      "cell_type": "code",
      "source": [
        "mod.add(Conv3D(filters=20,kernel_size=(2,2,3),input_shape=(224,224,3,1)))\n",
        "mod.add(MaxPool3D(pool_size=(2,2,1)))\n",
        "mod.add(Conv3D(filters=10,kernel_size=(2,2,1),activation='relu'))\n",
        "mod.add(MaxPool3D(pool_size=(2,2,1)))\n",
        "\n",
        "\n",
        "mod.add(Flatten())\n",
        "mod.add(Dense(units=10,activation='relu'))\n",
        "mod.add(Dense(units=5,activation='softmax'))"
      ],
      "metadata": {
        "id": "bXdcmAaF0s6l"
      },
      "execution_count": 28,
      "outputs": []
    },
    {
      "cell_type": "code",
      "source": [
        "mod.summary()"
      ],
      "metadata": {
        "colab": {
          "base_uri": "https://localhost:8080/"
        },
        "id": "zH1ZlWGn6cZ2",
        "outputId": "2b553bbc-bda5-4cc1-a111-525c787d4f55"
      },
      "execution_count": 29,
      "outputs": [
        {
          "output_type": "stream",
          "name": "stdout",
          "text": [
            "Model: \"sequential_1\"\n",
            "_________________________________________________________________\n",
            " Layer (type)                Output Shape              Param #   \n",
            "=================================================================\n",
            " conv3d_2 (Conv3D)           (None, 223, 223, 1, 20)   260       \n",
            "                                                                 \n",
            " max_pooling3d_2 (MaxPoolin  (None, 111, 111, 1, 20)   0         \n",
            " g3D)                                                            \n",
            "                                                                 \n",
            " conv3d_3 (Conv3D)           (None, 110, 110, 1, 10)   810       \n",
            "                                                                 \n",
            " max_pooling3d_3 (MaxPoolin  (None, 55, 55, 1, 10)     0         \n",
            " g3D)                                                            \n",
            "                                                                 \n",
            " flatten_1 (Flatten)         (None, 30250)             0         \n",
            "                                                                 \n",
            " dense_2 (Dense)             (None, 10)                302510    \n",
            "                                                                 \n",
            " dense_3 (Dense)             (None, 5)                 55        \n",
            "                                                                 \n",
            "=================================================================\n",
            "Total params: 303635 (1.16 MB)\n",
            "Trainable params: 303635 (1.16 MB)\n",
            "Non-trainable params: 0 (0.00 Byte)\n",
            "_________________________________________________________________\n"
          ]
        }
      ]
    },
    {
      "cell_type": "code",
      "source": [
        "mod.compile(loss=SparseCategoricalCrossentropy(),optimizer=Adam(),metrics=['accuracy'])"
      ],
      "metadata": {
        "id": "BMDkS2h36djh"
      },
      "execution_count": 30,
      "outputs": []
    },
    {
      "cell_type": "code",
      "source": [
        "h=mod.fit(xtrain,ytrain,epochs=10,validation_data=(xtest,ytest))"
      ],
      "metadata": {
        "colab": {
          "base_uri": "https://localhost:8080/"
        },
        "id": "vtekiY3A62i0",
        "outputId": "e5c07d72-9bc9-4760-b176-259333af8d42"
      },
      "execution_count": 31,
      "outputs": [
        {
          "output_type": "stream",
          "name": "stdout",
          "text": [
            "Epoch 1/10\n",
            "38/38 [==============================] - 9s 121ms/step - loss: 1.1673 - accuracy: 0.5400 - val_loss: 0.9361 - val_accuracy: 0.6200\n",
            "Epoch 2/10\n",
            "38/38 [==============================] - 2s 43ms/step - loss: 0.9304 - accuracy: 0.5983 - val_loss: 0.8806 - val_accuracy: 0.6100\n",
            "Epoch 3/10\n",
            "38/38 [==============================] - 2s 43ms/step - loss: 0.8573 - accuracy: 0.6317 - val_loss: 0.7792 - val_accuracy: 0.8033\n",
            "Epoch 4/10\n",
            "38/38 [==============================] - 2s 42ms/step - loss: 0.6889 - accuracy: 0.7975 - val_loss: 0.6014 - val_accuracy: 0.8033\n",
            "Epoch 5/10\n",
            "38/38 [==============================] - 2s 47ms/step - loss: 0.5960 - accuracy: 0.7983 - val_loss: 0.5817 - val_accuracy: 0.8033\n",
            "Epoch 6/10\n",
            "38/38 [==============================] - 2s 43ms/step - loss: 0.5812 - accuracy: 0.7992 - val_loss: 0.5684 - val_accuracy: 0.8033\n",
            "Epoch 7/10\n",
            "38/38 [==============================] - 2s 44ms/step - loss: 0.5683 - accuracy: 0.7992 - val_loss: 0.5562 - val_accuracy: 0.8033\n",
            "Epoch 8/10\n",
            "38/38 [==============================] - 2s 52ms/step - loss: 0.5560 - accuracy: 0.7992 - val_loss: 0.5440 - val_accuracy: 0.8033\n",
            "Epoch 9/10\n",
            "38/38 [==============================] - 2s 48ms/step - loss: 0.5441 - accuracy: 0.7992 - val_loss: 0.5327 - val_accuracy: 0.8033\n",
            "Epoch 10/10\n",
            "38/38 [==============================] - 2s 42ms/step - loss: 0.5330 - accuracy: 0.7992 - val_loss: 0.5218 - val_accuracy: 0.8033\n"
          ]
        }
      ]
    },
    {
      "cell_type": "code",
      "source": [
        "import matplotlib.pyplot as plt\n",
        "loss=h.history['loss']\n",
        "val_loss=h.history['val_loss']\n",
        "epoch=h.epoch\n",
        "plt.plot(epoch,loss)\n",
        "plt.plot(epoch,val_loss)"
      ],
      "metadata": {
        "colab": {
          "base_uri": "https://localhost:8080/",
          "height": 448
        },
        "id": "VrLfcgIb7Cgu",
        "outputId": "7728509b-7590-480d-8f53-bdbc20dc4ad6"
      },
      "execution_count": 32,
      "outputs": [
        {
          "output_type": "execute_result",
          "data": {
            "text/plain": [
              "[<matplotlib.lines.Line2D at 0x7de1753684f0>]"
            ]
          },
          "metadata": {},
          "execution_count": 32
        },
        {
          "output_type": "display_data",
          "data": {
            "text/plain": [
              "<Figure size 640x480 with 1 Axes>"
            ],
            "image/png": "[encoded data removed]"
          },
          "metadata": {}
        }
      ]
    },
    {
      "cell_type": "code",
      "source": [
        "accuracy=h.history['accuracy']\n",
        "val_accuracy=h.history['val_accuracy']\n",
        "plt.plot(epoch,accuracy)\n",
        "plt.plot(epoch,val_accuracy)"
      ],
      "metadata": {
        "colab": {
          "base_uri": "https://localhost:8080/",
          "height": 448
        },
        "id": "iIClU3dZ72xp",
        "outputId": "6a2a9ec2-9bf0-44c6-ba31-598bd6b038a0"
      },
      "execution_count": 33,
      "outputs": [
        {
          "output_type": "execute_result",
          "data": {
            "text/plain": [
              "[<matplotlib.lines.Line2D at 0x7de1753fd630>]"
            ]
          },
          "metadata": {},
          "execution_count": 33
        },
        {
          "output_type": "display_data",
          "data": {
            "text/plain": [
              "<Figure size 640x480 with 1 Axes>"
            ],
            "image/png": "[encoded data removed]"
          },
          "metadata": {}
        }
      ]
    },
    {
      "cell_type": "code",
      "source": [
        "classes=['Rismi','Thushin','Sayuj','Shamiya','Sadeed']"
      ],
      "metadata": {
        "id": "TS3Yi3yVlTlV"
      },
      "execution_count": 34,
      "outputs": []
    },
    {
      "cell_type": "code",
      "source": [
        "from PIL import Image\n",
        "import numpy as np\n",
        "img='/content/drive/MyDrive/images/Shamiya/image_100.jpg'\n",
        "dataset=[]\n",
        "img=Image.open(img)\n",
        "img=img.resize((224,224))\n",
        "np.max(img)\n",
        "img=np.array(img)/255\n",
        "img=img.reshape(224,224,3,1)\n",
        "dataset.append(img)\n",
        "test=np.array(dataset)\n",
        "m=mod.predict(test)\n",
        "pred=np.argmax(m)\n",
        "classes[pred]\n"
      ],
      "metadata": {
        "colab": {
          "base_uri": "https://localhost:8080/",
          "height": 53
        },
        "id": "Pq8kSwVm8XDq",
        "outputId": "cbc824c3-d53b-4351-ba0d-4de81a363ddc"
      },
      "execution_count": 60,
      "outputs": [
        {
          "output_type": "stream",
          "name": "stdout",
          "text": [
            "1/1 [==============================] - 0s 18ms/step\n"
          ]
        },
        {
          "output_type": "execute_result",
          "data": {
            "text/plain": [
              "'Shamiya'"
            ],
            "application/vnd.google.colaboratory.intrinsic+json": {
              "type": "string"
            }
          },
          "metadata": {},
          "execution_count": 60
        }
      ]
    },
    {
      "cell_type": "code",
      "source": [
        "mod.save('facedetection.h5')"
      ],
      "metadata": {
        "id": "xnXFSzctAaRM"
      },
      "execution_count": 43,
      "outputs": []
    },
    {
      "cell_type": "code",
      "source": [
        "from tensorflow.keras.models import load_model\n",
        "data=load_model('facedetection.h5')"
      ],
      "metadata": {
        "id": "ZhA1oLXBcyce"
      },
      "execution_count": 13,
      "outputs": []
    }
  ]
}